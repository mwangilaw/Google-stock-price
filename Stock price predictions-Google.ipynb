{
 "cells": [
  {
   "cell_type": "markdown",
   "id": "anticipated-background",
   "metadata": {},
   "source": [
    "***CLOSING STOCK PRICE PREDICTION USING NEURAL NETWORK***"
   ]
  },
  {
   "cell_type": "markdown",
   "id": "collected-joint",
   "metadata": {},
   "source": [
    "*This program uses an  artificial neural network called Long Short Term Memory (LSTM)\n",
    "to predict the closing stock of a corporation-Google using the past 60 days*"
   ]
  },
  {
   "cell_type": "code",
   "execution_count": 82,
   "id": "looking-packaging",
   "metadata": {},
   "outputs": [],
   "source": [
    "#Import libraries \n",
    "import math\n",
    "import pandas_datareader as web\n",
    "import numpy as np\n",
    "import pandas as pd\n",
    "from sklearn.preprocessing import MinMaxScaler\n",
    "from keras.models import Sequential \n",
    "from keras.layers import Dense, LSTM\n",
    "import matplotlib.pyplot as plt\n",
    "plt.style.use('fivethirtyeight')"
   ]
  },
  {
   "cell_type": "code",
   "execution_count": 113,
   "id": "built-indication",
   "metadata": {},
   "outputs": [],
   "source": [
    "#getting the stock quote \n",
    "df=web.DataReader('GOOG', data_source='yahoo', start='2015-01-01', end='2021-05-27')"
   ]
  },
  {
   "cell_type": "code",
   "execution_count": 114,
   "id": "increasing-begin",
   "metadata": {},
   "outputs": [
    {
     "data": {
      "text/html": [
       "<div>\n",
       "<style scoped>\n",
       "    .dataframe tbody tr th:only-of-type {\n",
       "        vertical-align: middle;\n",
       "    }\n",
       "\n",
       "    .dataframe tbody tr th {\n",
       "        vertical-align: top;\n",
       "    }\n",
       "\n",
       "    .dataframe thead th {\n",
       "        text-align: right;\n",
       "    }\n",
       "</style>\n",
       "<table border=\"1\" class=\"dataframe\">\n",
       "  <thead>\n",
       "    <tr style=\"text-align: right;\">\n",
       "      <th></th>\n",
       "      <th>High</th>\n",
       "      <th>Low</th>\n",
       "      <th>Open</th>\n",
       "      <th>Close</th>\n",
       "      <th>Volume</th>\n",
       "      <th>Adj Close</th>\n",
       "    </tr>\n",
       "    <tr>\n",
       "      <th>Date</th>\n",
       "      <th></th>\n",
       "      <th></th>\n",
       "      <th></th>\n",
       "      <th></th>\n",
       "      <th></th>\n",
       "      <th></th>\n",
       "    </tr>\n",
       "  </thead>\n",
       "  <tbody>\n",
       "    <tr>\n",
       "      <th>2015-01-02</th>\n",
       "      <td>529.815369</td>\n",
       "      <td>522.665039</td>\n",
       "      <td>527.561584</td>\n",
       "      <td>523.373108</td>\n",
       "      <td>1447563.0</td>\n",
       "      <td>523.373108</td>\n",
       "    </tr>\n",
       "    <tr>\n",
       "      <th>2015-01-05</th>\n",
       "      <td>522.894409</td>\n",
       "      <td>511.655243</td>\n",
       "      <td>521.827332</td>\n",
       "      <td>512.463013</td>\n",
       "      <td>2059840.0</td>\n",
       "      <td>512.463013</td>\n",
       "    </tr>\n",
       "    <tr>\n",
       "      <th>2015-01-06</th>\n",
       "      <td>514.761719</td>\n",
       "      <td>499.678131</td>\n",
       "      <td>513.589966</td>\n",
       "      <td>500.585632</td>\n",
       "      <td>2899940.0</td>\n",
       "      <td>500.585632</td>\n",
       "    </tr>\n",
       "    <tr>\n",
       "      <th>2015-01-07</th>\n",
       "      <td>505.855164</td>\n",
       "      <td>498.281952</td>\n",
       "      <td>505.611847</td>\n",
       "      <td>499.727997</td>\n",
       "      <td>2065054.0</td>\n",
       "      <td>499.727997</td>\n",
       "    </tr>\n",
       "    <tr>\n",
       "      <th>2015-01-08</th>\n",
       "      <td>502.101471</td>\n",
       "      <td>489.655640</td>\n",
       "      <td>496.626526</td>\n",
       "      <td>501.303680</td>\n",
       "      <td>3353582.0</td>\n",
       "      <td>501.303680</td>\n",
       "    </tr>\n",
       "    <tr>\n",
       "      <th>...</th>\n",
       "      <td>...</td>\n",
       "      <td>...</td>\n",
       "      <td>...</td>\n",
       "      <td>...</td>\n",
       "      <td>...</td>\n",
       "      <td>...</td>\n",
       "    </tr>\n",
       "    <tr>\n",
       "      <th>2021-05-21</th>\n",
       "      <td>2369.000000</td>\n",
       "      <td>2342.370117</td>\n",
       "      <td>2365.989990</td>\n",
       "      <td>2345.100098</td>\n",
       "      <td>1139600.0</td>\n",
       "      <td>2345.100098</td>\n",
       "    </tr>\n",
       "    <tr>\n",
       "      <th>2021-05-24</th>\n",
       "      <td>2418.479980</td>\n",
       "      <td>2360.110107</td>\n",
       "      <td>2367.000000</td>\n",
       "      <td>2406.669922</td>\n",
       "      <td>1062200.0</td>\n",
       "      <td>2406.669922</td>\n",
       "    </tr>\n",
       "    <tr>\n",
       "      <th>2021-05-25</th>\n",
       "      <td>2432.889893</td>\n",
       "      <td>2402.989990</td>\n",
       "      <td>2420.000000</td>\n",
       "      <td>2409.070068</td>\n",
       "      <td>941900.0</td>\n",
       "      <td>2409.070068</td>\n",
       "    </tr>\n",
       "    <tr>\n",
       "      <th>2021-05-26</th>\n",
       "      <td>2442.944092</td>\n",
       "      <td>2412.514893</td>\n",
       "      <td>2412.834961</td>\n",
       "      <td>2433.530029</td>\n",
       "      <td>1092800.0</td>\n",
       "      <td>2433.530029</td>\n",
       "    </tr>\n",
       "    <tr>\n",
       "      <th>2021-05-27</th>\n",
       "      <td>2440.000000</td>\n",
       "      <td>2402.000000</td>\n",
       "      <td>2436.939941</td>\n",
       "      <td>2402.510010</td>\n",
       "      <td>1948100.0</td>\n",
       "      <td>2402.510010</td>\n",
       "    </tr>\n",
       "  </tbody>\n",
       "</table>\n",
       "<p>1612 rows × 6 columns</p>\n",
       "</div>"
      ],
      "text/plain": [
       "                   High          Low         Open        Close     Volume  \\\n",
       "Date                                                                        \n",
       "2015-01-02   529.815369   522.665039   527.561584   523.373108  1447563.0   \n",
       "2015-01-05   522.894409   511.655243   521.827332   512.463013  2059840.0   \n",
       "2015-01-06   514.761719   499.678131   513.589966   500.585632  2899940.0   \n",
       "2015-01-07   505.855164   498.281952   505.611847   499.727997  2065054.0   \n",
       "2015-01-08   502.101471   489.655640   496.626526   501.303680  3353582.0   \n",
       "...                 ...          ...          ...          ...        ...   \n",
       "2021-05-21  2369.000000  2342.370117  2365.989990  2345.100098  1139600.0   \n",
       "2021-05-24  2418.479980  2360.110107  2367.000000  2406.669922  1062200.0   \n",
       "2021-05-25  2432.889893  2402.989990  2420.000000  2409.070068   941900.0   \n",
       "2021-05-26  2442.944092  2412.514893  2412.834961  2433.530029  1092800.0   \n",
       "2021-05-27  2440.000000  2402.000000  2436.939941  2402.510010  1948100.0   \n",
       "\n",
       "              Adj Close  \n",
       "Date                     \n",
       "2015-01-02   523.373108  \n",
       "2015-01-05   512.463013  \n",
       "2015-01-06   500.585632  \n",
       "2015-01-07   499.727997  \n",
       "2015-01-08   501.303680  \n",
       "...                 ...  \n",
       "2021-05-21  2345.100098  \n",
       "2021-05-24  2406.669922  \n",
       "2021-05-25  2409.070068  \n",
       "2021-05-26  2433.530029  \n",
       "2021-05-27  2402.510010  \n",
       "\n",
       "[1612 rows x 6 columns]"
      ]
     },
     "execution_count": 114,
     "metadata": {},
     "output_type": "execute_result"
    }
   ],
   "source": [
    "#showing the data\n",
    "df"
   ]
  },
  {
   "cell_type": "code",
   "execution_count": 115,
   "id": "romance-commissioner",
   "metadata": {},
   "outputs": [
    {
     "data": {
      "text/plain": [
       "(1612, 6)"
      ]
     },
     "execution_count": 115,
     "metadata": {},
     "output_type": "execute_result"
    }
   ],
   "source": [
    "#Number of rows and columns\n",
    "df.shape"
   ]
  },
  {
   "cell_type": "code",
   "execution_count": 116,
   "id": "protective-eugene",
   "metadata": {},
   "outputs": [
    {
     "data": {
      "text/plain": [
       "High         0\n",
       "Low          0\n",
       "Open         0\n",
       "Close        0\n",
       "Volume       0\n",
       "Adj Close    0\n",
       "dtype: int64"
      ]
     },
     "execution_count": 116,
     "metadata": {},
     "output_type": "execute_result"
    }
   ],
   "source": [
    "#checking if the data has missing values\n",
    "df.isnull().sum()"
   ]
  },
  {
   "cell_type": "code",
   "execution_count": 117,
   "id": "twelve-executive",
   "metadata": {},
   "outputs": [
    {
     "data": {
      "image/png": "[encoded data removed]",
      "text/plain": [
       "<Figure size 1152x864 with 1 Axes>"
      ]
     },
     "metadata": {},
     "output_type": "display_data"
    }
   ],
   "source": [
    "#Data visualizatio-Closing price \n",
    "plt.figure(figsize=(16,12))\n",
    "plt.title('Closing Price History', fontsize=26)\n",
    "plt.xlabel('Date', fontsize=26)\n",
    "plt.ylabel('Close Price ($)', fontsize=26)\n",
    "plt.plot(df['Close'])\n",
    "plt.show()"
   ]
  },
  {
   "cell_type": "code",
   "execution_count": 88,
   "id": "united-example",
   "metadata": {},
   "outputs": [
    {
     "data": {
      "text/html": [
       "<div>\n",
       "<style scoped>\n",
       "    .dataframe tbody tr th:only-of-type {\n",
       "        vertical-align: middle;\n",
       "    }\n",
       "\n",
       "    .dataframe tbody tr th {\n",
       "        vertical-align: top;\n",
       "    }\n",
       "\n",
       "    .dataframe thead th {\n",
       "        text-align: right;\n",
       "    }\n",
       "</style>\n",
       "<table border=\"1\" class=\"dataframe\">\n",
       "  <thead>\n",
       "    <tr style=\"text-align: right;\">\n",
       "      <th></th>\n",
       "      <th>Close</th>\n",
       "    </tr>\n",
       "    <tr>\n",
       "      <th>Date</th>\n",
       "      <th></th>\n",
       "    </tr>\n",
       "  </thead>\n",
       "  <tbody>\n",
       "    <tr>\n",
       "      <th>2015-01-02</th>\n",
       "      <td>523.373108</td>\n",
       "    </tr>\n",
       "    <tr>\n",
       "      <th>2015-01-05</th>\n",
       "      <td>512.463013</td>\n",
       "    </tr>\n",
       "    <tr>\n",
       "      <th>2015-01-06</th>\n",
       "      <td>500.585632</td>\n",
       "    </tr>\n",
       "    <tr>\n",
       "      <th>2015-01-07</th>\n",
       "      <td>499.727997</td>\n",
       "    </tr>\n",
       "    <tr>\n",
       "      <th>2015-01-08</th>\n",
       "      <td>501.303680</td>\n",
       "    </tr>\n",
       "    <tr>\n",
       "      <th>...</th>\n",
       "      <td>...</td>\n",
       "    </tr>\n",
       "    <tr>\n",
       "      <th>2021-05-21</th>\n",
       "      <td>2345.100098</td>\n",
       "    </tr>\n",
       "    <tr>\n",
       "      <th>2021-05-24</th>\n",
       "      <td>2406.669922</td>\n",
       "    </tr>\n",
       "    <tr>\n",
       "      <th>2021-05-25</th>\n",
       "      <td>2409.070068</td>\n",
       "    </tr>\n",
       "    <tr>\n",
       "      <th>2021-05-26</th>\n",
       "      <td>2433.530029</td>\n",
       "    </tr>\n",
       "    <tr>\n",
       "      <th>2021-05-27</th>\n",
       "      <td>2402.510010</td>\n",
       "    </tr>\n",
       "  </tbody>\n",
       "</table>\n",
       "<p>1612 rows × 1 columns</p>\n",
       "</div>"
      ],
      "text/plain": [
       "                  Close\n",
       "Date                   \n",
       "2015-01-02   523.373108\n",
       "2015-01-05   512.463013\n",
       "2015-01-06   500.585632\n",
       "2015-01-07   499.727997\n",
       "2015-01-08   501.303680\n",
       "...                 ...\n",
       "2021-05-21  2345.100098\n",
       "2021-05-24  2406.669922\n",
       "2021-05-25  2409.070068\n",
       "2021-05-26  2433.530029\n",
       "2021-05-27  2402.510010\n",
       "\n",
       "[1612 rows x 1 columns]"
      ]
     },
     "execution_count": 88,
     "metadata": {},
     "output_type": "execute_result"
    }
   ],
   "source": [
    "#Creating a new dataframe with only the 'Close' clumn\n",
    "data=df.filter(['Close'])\n",
    "data"
   ]
  },
  {
   "cell_type": "code",
   "execution_count": 89,
   "id": "alien-encounter",
   "metadata": {},
   "outputs": [],
   "source": [
    "#Convert the dataframe into a numpy array\n",
    "dataset=data.values"
   ]
  },
  {
   "cell_type": "code",
   "execution_count": 90,
   "id": "adaptive-internship",
   "metadata": {},
   "outputs": [],
   "source": [
    "#Getting the number of rows to train the model- We will train about 80% of the data we have\n",
    "#we round it up using math.ceil function\n",
    "training_data_len=math.ceil(len(dataset)*0.8)"
   ]
  },
  {
   "cell_type": "code",
   "execution_count": 91,
   "id": "convertible-fever",
   "metadata": {},
   "outputs": [
    {
     "data": {
      "text/plain": [
       "1290"
      ]
     },
     "execution_count": 91,
     "metadata": {},
     "output_type": "execute_result"
    }
   ],
   "source": [
    "#show the number of rows that we are training\n",
    "training_data_len"
   ]
  },
  {
   "cell_type": "code",
   "execution_count": 92,
   "id": "racial-voltage",
   "metadata": {},
   "outputs": [],
   "source": [
    "#Scaling the data \n",
    "scaler=MinMaxScaler(feature_range=(0,1))\n",
    "scaled_data=scaler.fit_transform(dataset)"
   ]
  },
  {
   "cell_type": "code",
   "execution_count": 93,
   "id": "abandoned-patch",
   "metadata": {},
   "outputs": [
    {
     "data": {
      "text/plain": [
       "array([[0.01656346],\n",
       "       [0.01094645],\n",
       "       [0.00483143],\n",
       "       ...,\n",
       "       [0.98740689],\n",
       "       [1.        ],\n",
       "       [0.98402947]])"
      ]
     },
     "execution_count": 93,
     "metadata": {},
     "output_type": "execute_result"
    }
   ],
   "source": [
    "scaled_data"
   ]
  },
  {
   "cell_type": "code",
   "execution_count": 94,
   "id": "graduate-animation",
   "metadata": {},
   "outputs": [],
   "source": [
    "#Create the training dataset\n",
    "#create the scaled training dataset\n",
    "train_data=scaled_data[0:training_data_len , :]"
   ]
  },
  {
   "cell_type": "code",
   "execution_count": 46,
   "id": "noted-tuning",
   "metadata": {},
   "outputs": [
    {
     "name": "stdout",
     "output_type": "stream",
     "text": [
      "[array([0.03937384, 0.03298777, 0.03300851, 0.03609787, 0.04468174,\n",
      "       0.04493055, 0.03920797, 0.04121917, 0.04034834, 0.03416961,\n",
      "       0.03244869, 0.03810907, 0.03982999, 0.04573918, 0.04694175,\n",
      "       0.04719055, 0.03897989, 0.05177276, 0.05921626, 0.05560856,\n",
      "       0.05865644, 0.05869791, 0.0605847 , 0.0613726 , 0.05927846,\n",
      "       0.06091645, 0.06568526, 0.07161518, 0.07489115, 0.07617666,\n",
      "       0.07773171, 0.07957703, 0.07901721, 0.08119428, 0.08845118,\n",
      "       0.08673025, 0.07972216, 0.0831018 , 0.07903796, 0.08034418,\n",
      "       0.08090401, 0.07920381, 0.07478749, 0.07518142, 0.07630106,\n",
      "       0.07084803, 0.06614141, 0.07072361, 0.06894049, 0.07176031,\n",
      "       0.07609372, 0.07905868, 0.07704749, 0.07373005, 0.0764462 ,\n",
      "       0.07536804, 0.06850508, 0.0702882 , 0.06823554, 0.07470455])]\n",
      "[0.07068215358294894]\n",
      "\n",
      "[array([0.03937384, 0.03298777, 0.03300851, 0.03609787, 0.04468174,\n",
      "       0.04493055, 0.03920797, 0.04121917, 0.04034834, 0.03416961,\n",
      "       0.03244869, 0.03810907, 0.03982999, 0.04573918, 0.04694175,\n",
      "       0.04719055, 0.03897989, 0.05177276, 0.05921626, 0.05560856,\n",
      "       0.05865644, 0.05869791, 0.0605847 , 0.0613726 , 0.05927846,\n",
      "       0.06091645, 0.06568526, 0.07161518, 0.07489115, 0.07617666,\n",
      "       0.07773171, 0.07957703, 0.07901721, 0.08119428, 0.08845118,\n",
      "       0.08673025, 0.07972216, 0.0831018 , 0.07903796, 0.08034418,\n",
      "       0.08090401, 0.07920381, 0.07478749, 0.07518142, 0.07630106,\n",
      "       0.07084803, 0.06614141, 0.07072361, 0.06894049, 0.07176031,\n",
      "       0.07609372, 0.07905868, 0.07704749, 0.07373005, 0.0764462 ,\n",
      "       0.07536804, 0.06850508, 0.0702882 , 0.06823554, 0.07470455]), array([0.03298777, 0.03300851, 0.03609787, 0.04468174, 0.04493055,\n",
      "       0.03920797, 0.04121917, 0.04034834, 0.03416961, 0.03244869,\n",
      "       0.03810907, 0.03982999, 0.04573918, 0.04694175, 0.04719055,\n",
      "       0.03897989, 0.05177276, 0.05921626, 0.05560856, 0.05865644,\n",
      "       0.05869791, 0.0605847 , 0.0613726 , 0.05927846, 0.06091645,\n",
      "       0.06568526, 0.07161518, 0.07489115, 0.07617666, 0.07773171,\n",
      "       0.07957703, 0.07901721, 0.08119428, 0.08845118, 0.08673025,\n",
      "       0.07972216, 0.0831018 , 0.07903796, 0.08034418, 0.08090401,\n",
      "       0.07920381, 0.07478749, 0.07518142, 0.07630106, 0.07084803,\n",
      "       0.06614141, 0.07072361, 0.06894049, 0.07176031, 0.07609372,\n",
      "       0.07905868, 0.07704749, 0.07373005, 0.0764462 , 0.07536804,\n",
      "       0.06850508, 0.0702882 , 0.06823554, 0.07470455, 0.07068215])]\n",
      "[0.07068215358294894, 0.0703089412704006]\n",
      "\n"
     ]
    }
   ],
   "source": [
    "# splitting the data into X_train and y_train datasets \n",
    "x_train=[]\n",
    "y_train=[]\n",
    "\n",
    "for i in range (60, len(train_data)):\n",
    "    x_train.append(train_data[i-60:i, 0])\n",
    "    y_train.append(train_data[i, 0])\n",
    "    if i<=61:\n",
    "        print(x_train)\n",
    "        print(y_train)\n",
    "        print()\n"
   ]
  },
  {
   "cell_type": "code",
   "execution_count": 95,
   "id": "medieval-defendant",
   "metadata": {},
   "outputs": [],
   "source": [
    "#Converting the x_train and y_train to numpy arrays\n",
    "x_train, y_train=np.array(x_train),np.array(y_train)"
   ]
  },
  {
   "cell_type": "code",
   "execution_count": 96,
   "id": "cellular-economics",
   "metadata": {},
   "outputs": [],
   "source": [
    "#Reshape the data since LSTM needs a three-dimensional data set\n",
    "x_train=np.reshape(x_train, (x_train.shape[0], x_train.shape[1], 1))"
   ]
  },
  {
   "cell_type": "code",
   "execution_count": 97,
   "id": "twelve-buffer",
   "metadata": {},
   "outputs": [],
   "source": [
    "#Build the LSTM model\n",
    "model=Sequential()\n",
    "model.add(LSTM(50, return_sequences=True, input_shape=(x_train.shape[1],1)))\n",
    "model.add(LSTM(50, return_sequences=False))\n",
    "model.add(Dense(25))\n",
    "model.add(Dense(1))"
   ]
  },
  {
   "cell_type": "code",
   "execution_count": 98,
   "id": "expired-thinking",
   "metadata": {},
   "outputs": [],
   "source": [
    "#Compile the model \n",
    "model.compile(optimizer='adam', loss='mean_squared_error')"
   ]
  },
  {
   "cell_type": "code",
   "execution_count": 99,
   "id": "rental-humanitarian",
   "metadata": {},
   "outputs": [
    {
     "name": "stdout",
     "output_type": "stream",
     "text": [
      "1230/1230 [==============================] - 20s 16ms/step - loss: 4.4256e-04\n"
     ]
    },
    {
     "data": {
      "text/plain": [
       "<tensorflow.python.keras.callbacks.History at 0x26bf2a03970>"
      ]
     },
     "execution_count": 99,
     "metadata": {},
     "output_type": "execute_result"
    }
   ],
   "source": [
    "#Training the model\n",
    "model.fit(x_train, y_train, batch_size=1, epochs=1)"
   ]
  },
  {
   "cell_type": "code",
   "execution_count": 100,
   "id": "welcome-construction",
   "metadata": {},
   "outputs": [],
   "source": [
    "#Create the test dataset\n",
    "#Create a new array\n",
    "test_data=scaled_data[training_data_len-60:, :]\n",
    "#Create the data sets x_test and y_test\n",
    "x_test=[]\n",
    "y_test=dataset[training_data_len:,:]\n",
    "for i in range(60, len(test_data)):\n",
    "    x_test.append(test_data[i-60:i,0])"
   ]
  },
  {
   "cell_type": "code",
   "execution_count": 101,
   "id": "herbal-hygiene",
   "metadata": {},
   "outputs": [],
   "source": [
    "#Convert the data to a numpy array\n",
    "x_test=np.array(x_test)"
   ]
  },
  {
   "cell_type": "code",
   "execution_count": 102,
   "id": "hindu-cement",
   "metadata": {},
   "outputs": [],
   "source": [
    "#Reshape the data\n",
    "x_test=np.reshape(x_test, (x_test.shape[0], x_test.shape[1], 1))"
   ]
  },
  {
   "cell_type": "code",
   "execution_count": 103,
   "id": "pressed-hollywood",
   "metadata": {},
   "outputs": [],
   "source": [
    "#Get the models predicted Price values \n",
    "predictions=model.predict(x_test)\n",
    "predictions=scaler.inverse_transform(predictions)"
   ]
  },
  {
   "cell_type": "code",
   "execution_count": 104,
   "id": "impaired-approval",
   "metadata": {},
   "outputs": [
    {
     "data": {
      "text/plain": [
       "20.124968155570652"
      ]
     },
     "execution_count": 104,
     "metadata": {},
     "output_type": "execute_result"
    }
   ],
   "source": [
    "#Evaluating the model using the Root mean squared error(RMSE)\n",
    "rmse=np.sqrt(np.mean(predictions-y_test)**2)\n",
    "rmse"
   ]
  },
  {
   "cell_type": "code",
   "execution_count": 105,
   "id": "irish-improvement",
   "metadata": {},
   "outputs": [
    {
     "name": "stderr",
     "output_type": "stream",
     "text": [
      "<ipython-input-105-7ca77e83e1c0>:4: SettingWithCopyWarning: \n",
      "A value is trying to be set on a copy of a slice from a DataFrame.\n",
      "Try using .loc[row_indexer,col_indexer] = value instead\n",
      "\n",
      "See the caveats in the documentation: https://pandas.pydata.org/pandas-docs/stable/user_guide/indexing.html#returning-a-view-versus-a-copy\n",
      "  valid['predictions']=predictions\n"
     ]
    },
    {
     "data": {
      "image/png": "[encoded data removed]",
      "text/plain": [
       "<Figure size 1152x864 with 1 Axes>"
      ]
     },
     "metadata": {},
     "output_type": "display_data"
    }
   ],
   "source": [
    "#PLOT THE DATA\n",
    "train=data[:training_data_len]\n",
    "valid=data[training_data_len:]\n",
    "valid['predictions']=predictions\n",
    "#Visualize\n",
    "plt.figure(figsize=(16,12))\n",
    "plt.title('Model', fontsize=26)\n",
    "plt.xlabel('Date', fontsize=26)\n",
    "plt.ylabel('Close Price ($)', fontsize=26)\n",
    "plt.plot(train['Close'])\n",
    "plt.plot(valid[['Close', 'predictions']])\n",
    "plt.legend(['Train','val','predictions'], loc='lower right')\n",
    "plt.show()"
   ]
  },
  {
   "cell_type": "code",
   "execution_count": 106,
   "id": "difficult-overall",
   "metadata": {},
   "outputs": [
    {
     "data": {
      "text/html": [
       "<div>\n",
       "<style scoped>\n",
       "    .dataframe tbody tr th:only-of-type {\n",
       "        vertical-align: middle;\n",
       "    }\n",
       "\n",
       "    .dataframe tbody tr th {\n",
       "        vertical-align: top;\n",
       "    }\n",
       "\n",
       "    .dataframe thead th {\n",
       "        text-align: right;\n",
       "    }\n",
       "</style>\n",
       "<table border=\"1\" class=\"dataframe\">\n",
       "  <thead>\n",
       "    <tr style=\"text-align: right;\">\n",
       "      <th></th>\n",
       "      <th>Close</th>\n",
       "      <th>predictions</th>\n",
       "    </tr>\n",
       "    <tr>\n",
       "      <th>Date</th>\n",
       "      <th></th>\n",
       "      <th></th>\n",
       "    </tr>\n",
       "  </thead>\n",
       "  <tbody>\n",
       "    <tr>\n",
       "      <th>2020-02-19</th>\n",
       "      <td>1526.689941</td>\n",
       "      <td>1528.427246</td>\n",
       "    </tr>\n",
       "    <tr>\n",
       "      <th>2020-02-20</th>\n",
       "      <td>1518.150024</td>\n",
       "      <td>1534.420776</td>\n",
       "    </tr>\n",
       "    <tr>\n",
       "      <th>2020-02-21</th>\n",
       "      <td>1485.109985</td>\n",
       "      <td>1538.780273</td>\n",
       "    </tr>\n",
       "    <tr>\n",
       "      <th>2020-02-24</th>\n",
       "      <td>1421.589966</td>\n",
       "      <td>1538.684326</td>\n",
       "    </tr>\n",
       "    <tr>\n",
       "      <th>2020-02-25</th>\n",
       "      <td>1388.449951</td>\n",
       "      <td>1530.071411</td>\n",
       "    </tr>\n",
       "    <tr>\n",
       "      <th>...</th>\n",
       "      <td>...</td>\n",
       "      <td>...</td>\n",
       "    </tr>\n",
       "    <tr>\n",
       "      <th>2021-05-21</th>\n",
       "      <td>2345.100098</td>\n",
       "      <td>2369.996094</td>\n",
       "    </tr>\n",
       "    <tr>\n",
       "      <th>2021-05-24</th>\n",
       "      <td>2406.669922</td>\n",
       "      <td>2374.190186</td>\n",
       "    </tr>\n",
       "    <tr>\n",
       "      <th>2021-05-25</th>\n",
       "      <td>2409.070068</td>\n",
       "      <td>2384.684082</td>\n",
       "    </tr>\n",
       "    <tr>\n",
       "      <th>2021-05-26</th>\n",
       "      <td>2433.530029</td>\n",
       "      <td>2397.730957</td>\n",
       "    </tr>\n",
       "    <tr>\n",
       "      <th>2021-05-27</th>\n",
       "      <td>2402.510010</td>\n",
       "      <td>2413.255859</td>\n",
       "    </tr>\n",
       "  </tbody>\n",
       "</table>\n",
       "<p>322 rows × 2 columns</p>\n",
       "</div>"
      ],
      "text/plain": [
       "                  Close  predictions\n",
       "Date                                \n",
       "2020-02-19  1526.689941  1528.427246\n",
       "2020-02-20  1518.150024  1534.420776\n",
       "2020-02-21  1485.109985  1538.780273\n",
       "2020-02-24  1421.589966  1538.684326\n",
       "2020-02-25  1388.449951  1530.071411\n",
       "...                 ...          ...\n",
       "2021-05-21  2345.100098  2369.996094\n",
       "2021-05-24  2406.669922  2374.190186\n",
       "2021-05-25  2409.070068  2384.684082\n",
       "2021-05-26  2433.530029  2397.730957\n",
       "2021-05-27  2402.510010  2413.255859\n",
       "\n",
       "[322 rows x 2 columns]"
      ]
     },
     "execution_count": 106,
     "metadata": {},
     "output_type": "execute_result"
    }
   ],
   "source": [
    "#Showing the valid prices and the predicted \n",
    "valid"
   ]
  },
  {
   "cell_type": "markdown",
   "id": "precise-robin",
   "metadata": {},
   "source": [
    "**Predict a future price**\n"
   ]
  },
  {
   "cell_type": "code",
   "execution_count": 108,
   "id": "economic-hollywood",
   "metadata": {},
   "outputs": [
    {
     "name": "stdout",
     "output_type": "stream",
     "text": [
      "[[2425.8262]]\n"
     ]
    }
   ],
   "source": [
    "#Get the quote\n",
    "google_quote=web.DataReader('GOOG', data_source='yahoo',start='2015-01-01', end='2021-05-27')\n",
    "#Create a new dataframe\n",
    "new_df=google_quote.filter(['Close'])\n",
    "#Get the last 60 days closing price and convert the dataframe into an array\n",
    "last_60_days=new_df[-60:].values\n",
    "#Scale the data to be values between 0\n",
    "last_60_days_scaled=scaler.transform(last_60_days)\n",
    "#create and empty\n",
    "x_test=[]\n",
    "#append the last 60 days\n",
    "x_test.append(last_60_days_scaled)\n",
    "#convert the X_test to a numpy array\n",
    "x_test=np.array(x_test)\n",
    "#Reshape\n",
    "x_test=np.reshape(x_test, (x_test.shape[0], x_test.shape[1], 1))\n",
    "#Get the predicted scaled price \n",
    "pred_price=model.predict(x_test)\n",
    "#undo scaling\n",
    "pred_price=scaler.inverse_transform(pred_price)\n",
    "print(pred_price)\n"
   ]
  },
  {
   "cell_type": "code",
   "execution_count": 109,
   "id": "assured-italy",
   "metadata": {},
   "outputs": [
    {
     "data": {
      "text/plain": [
       "Date\n",
       "2021-05-28    2411.560059\n",
       "2021-05-28    2411.560059\n",
       "Name: Close, dtype: float64"
      ]
     },
     "execution_count": 109,
     "metadata": {},
     "output_type": "execute_result"
    }
   ],
   "source": [
    "google1_quote1=web.DataReader('GOOG', data_source='yahoo',start='2021-05-28', end='2021-05-28')\n",
    "google1_quote1['Close']"
   ]
  },
  {
   "cell_type": "code",
   "execution_count": null,
   "id": "suspected-footage",
   "metadata": {},
   "outputs": [],
   "source": []
  }
 ],
 "metadata": {
  "kernelspec": {
   "display_name": "Python 3",
   "language": "python",
   "name": "python3"
  },
  "language_info": {
   "codemirror_mode": {
    "name": "ipython",
    "version": 3
   },
   "file_extension": ".py",
   "mimetype": "text/x-python",
   "name": "python",
   "nbconvert_exporter": "python",
   "pygments_lexer": "ipython3",
   "version": "3.8.8"
  }
 },
 "nbformat": 4,
 "nbformat_minor": 5
}
